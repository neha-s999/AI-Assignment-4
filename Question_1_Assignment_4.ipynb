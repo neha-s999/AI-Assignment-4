{
 "cells": [
  {
   "cell_type": "code",
   "execution_count": 15,
   "id": "a11b2cdb-8dc5-4ac5-a34d-f7be57818356",
   "metadata": {},
   "outputs": [
    {
     "name": "stdout",
     "output_type": "stream",
     "text": [
      "Minimax result: 3\n",
      "Alpha-Beta Pruning result: 3\n"
     ]
    }
   ],
   "source": [
    "# Initial values of Alpha and Beta \n",
    "MIN, MAX = float('-inf'), float('inf')\n",
    "def minimax(depth, nodeIndex, maximizingPlayer, values, alpha, beta):\n",
    "    if depth == 3:\n",
    "        return values[nodeIndex]\n",
    "\n",
    "    if maximizingPlayer:\n",
    "        best = MIN\n",
    "        for i in range(0, 2):\n",
    "            val = minimax(depth + 1, nodeIndex * 2 + i, False, values, alpha, beta)\n",
    "            best = max(best, val)\n",
    "        return best\n",
    "\n",
    "    else:\n",
    "        best = MAX\n",
    "        for i in range(0, 2):\n",
    "            val = minimax(depth + 1, nodeIndex * 2 + i, True, values, alpha, beta)\n",
    "            best = min(best, val)\n",
    "        return best\n",
    "\n",
    "def alpha_beta_pruning(depth, nodeIndex, alpha, beta, maximizingPlayer, values):\n",
    "    if depth == 3:\n",
    "        return values[nodeIndex]\n",
    "\n",
    "    if maximizingPlayer:\n",
    "        best = MIN\n",
    "        for i in range(0, 2):\n",
    "            val = alpha_beta_pruning(depth + 1, nodeIndex * 2 + i, alpha, beta, False, values)\n",
    "            best = max(best, val)\n",
    "            alpha = max(alpha, best)\n",
    "            if beta <= alpha:\n",
    "                break\n",
    "        return best\n",
    "\n",
    "    else:\n",
    "        best = MAX\n",
    "        for i in range(0, 2):\n",
    "            val = alpha_beta_pruning(depth + 1, nodeIndex * 2 + i, alpha, beta, True, values)\n",
    "            best = min(best, val)\n",
    "            beta = min(beta, best)\n",
    "            if beta <= alpha:\n",
    "                break\n",
    "        return best\n",
    "\n",
    "# Driver Code with input passed directly\n",
    "if __name__ == \"__main__\":\n",
    "    # input_values = [-1,4,2,6,-3,-5,0,7]\n",
    "    # input_values = [2,3,5,9,0,1,7,5]\n",
    "    input_values = [-1,3,5,1,-6,-4,0,9]\n",
    "\n",
    "    # Test Minimax\n",
    "    minimax_result = minimax(0, 0, True, input_values, MIN, MAX)\n",
    "    print(\"Minimax result:\", minimax_result)\n",
    "\n",
    "    # Test Alpha-Beta Pruning\n",
    "    alpha_beta_result = alpha_beta_pruning(0, 0, MIN, MAX, True, input_values)\n",
    "    print(\"Alpha-Beta Pruning result:\", alpha_beta_result)\n"
   ]
  },
  {
   "cell_type": "code",
   "execution_count": null,
   "id": "6af45ace-d0c5-446c-afee-b4c9788d8d3e",
   "metadata": {},
   "outputs": [],
   "source": []
  }
 ],
 "metadata": {
  "kernelspec": {
   "display_name": "Python 3 (ipykernel)",
   "language": "python",
   "name": "python3"
  },
  "language_info": {
   "codemirror_mode": {
    "name": "ipython",
    "version": 3
   },
   "file_extension": ".py",
   "mimetype": "text/x-python",
   "name": "python",
   "nbconvert_exporter": "python",
   "pygments_lexer": "ipython3",
   "version": "3.12.0"
  }
 },
 "nbformat": 4,
 "nbformat_minor": 5
}
